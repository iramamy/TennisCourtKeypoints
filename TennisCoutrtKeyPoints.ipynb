{
 "cells": [
  {
   "cell_type": "markdown",
   "metadata": {
    "id": "TeRUg4w2dgis"
   },
   "source": [
    "# Training and Evaluating a Keypoint Detection Model using ResNet50"
   ]
  },
  {
   "cell_type": "code",
   "execution_count": 2,
   "metadata": {
    "colab": {
     "base_uri": "https://localhost:8080/"
    },
    "id": "WuED4vUv05bv",
    "outputId": "b887be8a-bd6a-453a-fa2d-03cd88ebe0d2"
   },
   "outputs": [
    {
     "name": "stdout",
     "output_type": "stream",
     "text": [
      "Requirement already satisfied: PyDrive2 in /usr/local/lib/python3.10/dist-packages (1.6.3)\n",
      "Requirement already satisfied: google-api-python-client>=1.12.5 in /usr/local/lib/python3.10/dist-packages (from PyDrive2) (2.137.0)\n",
      "Requirement already satisfied: six>=1.13.0 in /usr/local/lib/python3.10/dist-packages (from PyDrive2) (1.16.0)\n",
      "Requirement already satisfied: oauth2client>=4.0.0 in /usr/local/lib/python3.10/dist-packages (from PyDrive2) (4.1.3)\n",
      "Requirement already satisfied: PyYAML>=3.0 in /usr/local/lib/python3.10/dist-packages (from PyDrive2) (6.0.1)\n",
      "Requirement already satisfied: pyOpenSSL>=19.1.0 in /usr/local/lib/python3.10/dist-packages (from PyDrive2) (24.2.1)\n",
      "Requirement already satisfied: httplib2<1.dev0,>=0.19.0 in /usr/local/lib/python3.10/dist-packages (from google-api-python-client>=1.12.5->PyDrive2) (0.22.0)\n",
      "Requirement already satisfied: google-auth!=2.24.0,!=2.25.0,<3.0.0.dev0,>=1.32.0 in /usr/local/lib/python3.10/dist-packages (from google-api-python-client>=1.12.5->PyDrive2) (2.27.0)\n",
      "Requirement already satisfied: google-auth-httplib2<1.0.0,>=0.2.0 in /usr/local/lib/python3.10/dist-packages (from google-api-python-client>=1.12.5->PyDrive2) (0.2.0)\n",
      "Requirement already satisfied: google-api-core!=2.0.*,!=2.1.*,!=2.2.*,!=2.3.0,<3.0.0.dev0,>=1.31.5 in /usr/local/lib/python3.10/dist-packages (from google-api-python-client>=1.12.5->PyDrive2) (2.19.1)\n",
      "Requirement already satisfied: uritemplate<5,>=3.0.1 in /usr/local/lib/python3.10/dist-packages (from google-api-python-client>=1.12.5->PyDrive2) (4.1.1)\n",
      "Requirement already satisfied: pyasn1>=0.1.7 in /usr/local/lib/python3.10/dist-packages (from oauth2client>=4.0.0->PyDrive2) (0.6.0)\n",
      "Requirement already satisfied: pyasn1-modules>=0.0.5 in /usr/local/lib/python3.10/dist-packages (from oauth2client>=4.0.0->PyDrive2) (0.4.0)\n",
      "Requirement already satisfied: rsa>=3.1.4 in /usr/local/lib/python3.10/dist-packages (from oauth2client>=4.0.0->PyDrive2) (4.9)\n",
      "Requirement already satisfied: cryptography<44,>=41.0.5 in /usr/local/lib/python3.10/dist-packages (from pyOpenSSL>=19.1.0->PyDrive2) (42.0.8)\n",
      "Requirement already satisfied: cffi>=1.12 in /usr/local/lib/python3.10/dist-packages (from cryptography<44,>=41.0.5->pyOpenSSL>=19.1.0->PyDrive2) (1.16.0)\n",
      "Requirement already satisfied: googleapis-common-protos<2.0.dev0,>=1.56.2 in /usr/local/lib/python3.10/dist-packages (from google-api-core!=2.0.*,!=2.1.*,!=2.2.*,!=2.3.0,<3.0.0.dev0,>=1.31.5->google-api-python-client>=1.12.5->PyDrive2) (1.63.2)\n",
      "Requirement already satisfied: protobuf!=3.20.0,!=3.20.1,!=4.21.0,!=4.21.1,!=4.21.2,!=4.21.3,!=4.21.4,!=4.21.5,<6.0.0.dev0,>=3.19.5 in /usr/local/lib/python3.10/dist-packages (from google-api-core!=2.0.*,!=2.1.*,!=2.2.*,!=2.3.0,<3.0.0.dev0,>=1.31.5->google-api-python-client>=1.12.5->PyDrive2) (3.20.3)\n",
      "Requirement already satisfied: proto-plus<2.0.0dev,>=1.22.3 in /usr/local/lib/python3.10/dist-packages (from google-api-core!=2.0.*,!=2.1.*,!=2.2.*,!=2.3.0,<3.0.0.dev0,>=1.31.5->google-api-python-client>=1.12.5->PyDrive2) (1.24.0)\n",
      "Requirement already satisfied: requests<3.0.0.dev0,>=2.18.0 in /usr/local/lib/python3.10/dist-packages (from google-api-core!=2.0.*,!=2.1.*,!=2.2.*,!=2.3.0,<3.0.0.dev0,>=1.31.5->google-api-python-client>=1.12.5->PyDrive2) (2.31.0)\n",
      "Requirement already satisfied: cachetools<6.0,>=2.0.0 in /usr/local/lib/python3.10/dist-packages (from google-auth!=2.24.0,!=2.25.0,<3.0.0.dev0,>=1.32.0->google-api-python-client>=1.12.5->PyDrive2) (5.4.0)\n",
      "Requirement already satisfied: pyparsing!=3.0.0,!=3.0.1,!=3.0.2,!=3.0.3,<4,>=2.4.2 in /usr/local/lib/python3.10/dist-packages (from httplib2<1.dev0,>=0.19.0->google-api-python-client>=1.12.5->PyDrive2) (3.1.2)\n",
      "Requirement already satisfied: pycparser in /usr/local/lib/python3.10/dist-packages (from cffi>=1.12->cryptography<44,>=41.0.5->pyOpenSSL>=19.1.0->PyDrive2) (2.22)\n",
      "Requirement already satisfied: charset-normalizer<4,>=2 in /usr/local/lib/python3.10/dist-packages (from requests<3.0.0.dev0,>=2.18.0->google-api-core!=2.0.*,!=2.1.*,!=2.2.*,!=2.3.0,<3.0.0.dev0,>=1.31.5->google-api-python-client>=1.12.5->PyDrive2) (3.3.2)\n",
      "Requirement already satisfied: idna<4,>=2.5 in /usr/local/lib/python3.10/dist-packages (from requests<3.0.0.dev0,>=2.18.0->google-api-core!=2.0.*,!=2.1.*,!=2.2.*,!=2.3.0,<3.0.0.dev0,>=1.31.5->google-api-python-client>=1.12.5->PyDrive2) (3.7)\n",
      "Requirement already satisfied: urllib3<3,>=1.21.1 in /usr/local/lib/python3.10/dist-packages (from requests<3.0.0.dev0,>=2.18.0->google-api-core!=2.0.*,!=2.1.*,!=2.2.*,!=2.3.0,<3.0.0.dev0,>=1.31.5->google-api-python-client>=1.12.5->PyDrive2) (2.0.7)\n",
      "Requirement already satisfied: certifi>=2017.4.17 in /usr/local/lib/python3.10/dist-packages (from requests<3.0.0.dev0,>=2.18.0->google-api-core!=2.0.*,!=2.1.*,!=2.2.*,!=2.3.0,<3.0.0.dev0,>=1.31.5->google-api-python-client>=1.12.5->PyDrive2) (2024.7.4)\n"
     ]
    }
   ],
   "source": [
    "!pip install PyDrive2"
   ]
  },
  {
   "cell_type": "code",
   "execution_count": 3,
   "metadata": {
    "id": "iXOFwlIuzz0y"
   },
   "outputs": [],
   "source": [
    "from pydrive2.auth import GoogleAuth\n",
    "from pydrive2.drive import GoogleDrive\n",
    "from google.colab import auth\n",
    "from oauth2client.client import GoogleCredentials\n",
    "\n",
    "# Authenticate and create the PyDrive2 client\n",
    "auth.authenticate_user()\n",
    "gauth = GoogleAuth()\n",
    "gauth.credentials = GoogleCredentials.get_application_default()\n",
    "drive = GoogleDrive(gauth)\n"
   ]
  },
  {
   "cell_type": "code",
   "execution_count": 3,
   "metadata": {
    "id": "K5TMbLTO0JkW"
   },
   "outputs": [],
   "source": [
    "file_id = '1lhAaeQCmk2y440PmagA0KmIVBIysVMwu'\n",
    "downloaded = drive.CreateFile({'id': file_id})\n",
    "downloaded.GetContentFile('data.zip')"
   ]
  },
  {
   "cell_type": "code",
   "execution_count": 4,
   "metadata": {
    "id": "fYEVTXmr0a3r"
   },
   "outputs": [],
   "source": [
    "import zipfile\n",
    "with zipfile.ZipFile('data.zip', 'r') as zip_ref:\n",
    "    zip_ref.extractall('')"
   ]
  },
  {
   "cell_type": "code",
   "execution_count": 4,
   "metadata": {
    "id": "TqmUueYo09J1"
   },
   "outputs": [],
   "source": [
    "# %%capture\n",
    "# !unzip tennis_court_det_dataset.zip\n",
    "# !rm -rf data.zip\n",
    "# print('DONE')"
   ]
  },
  {
   "cell_type": "code",
   "execution_count": 4,
   "metadata": {
    "id": "qiICa2FP1AM6"
   },
   "outputs": [],
   "source": [
    "import torch\n",
    "from torch.utils.data import Dataset, DataLoader, random_split\n",
    "from torchvision import models, transforms\n",
    "from torchvision.models import ResNet50_Weights\n",
    "import json\n",
    "import cv2\n",
    "import numpy as np\n",
    "import os\n",
    "\n",
    "import matplotlib.pyplot as plt"
   ]
  },
  {
   "cell_type": "code",
   "execution_count": 5,
   "metadata": {
    "id": "9Vk1PUG41HOO"
   },
   "outputs": [],
   "source": [
    "device = torch.device(\"cuda\" if torch.cuda.is_available else 'cpu')"
   ]
  },
  {
   "cell_type": "code",
   "execution_count": 6,
   "metadata": {
    "id": "ODY_ehlr1Ilj"
   },
   "outputs": [],
   "source": [
    "class KeypointsDataset(Dataset):\n",
    "    def __init__(self, image_dir, data_file):\n",
    "        self.image_dir = image_dir\n",
    "        with open(data_file, 'r') as f:\n",
    "            self.data = json.load(f)\n",
    "\n",
    "        self.transforms = transforms.Compose([\n",
    "            transforms.ToPILImage(),\n",
    "            transforms.Resize((224, 224)),\n",
    "            transforms.ToTensor(),\n",
    "            transforms.Normalize(mean=[0.485, 0.456, 0.406], std=[0.229, 0.224, 0.225])\n",
    "        ])\n",
    "\n",
    "    def __len__(self):\n",
    "        return len(self.data)\n",
    "\n",
    "    def __getitem__(self, index):\n",
    "        item = self.data[index]\n",
    "        image = cv2.imread(f'{self.image_dir}/{item[\"id\"]}.png')\n",
    "        height, width = image.shape[:2]\n",
    "        image = cv2.cvtColor(image, cv2.COLOR_BGR2RGB)\n",
    "        image = self.transforms(image)\n",
    "        keypoints = np.array(item['kps']).flatten()\n",
    "        keypoints = keypoints.astype(np.float32)\n",
    "\n",
    "        keypoints[::2] *= (224.0 / width)\n",
    "        keypoints[1::2] *= (224.0 / height)\n",
    "\n",
    "        return image, keypoints"
   ]
  },
  {
   "cell_type": "code",
   "execution_count": 7,
   "metadata": {
    "id": "HMsplBem1KNI"
   },
   "outputs": [],
   "source": [
    "HOME = os.getcwd()\n",
    "img_dir = f'{HOME}/data/images'\n",
    "train_annotation_dir = f'{HOME}/data/data_train.json'\n",
    "validation_annotation_dir = f'{HOME}/data/data_val.json'"
   ]
  },
  {
   "cell_type": "code",
   "execution_count": 8,
   "metadata": {
    "id": "3c32lLoj1MxZ"
   },
   "outputs": [],
   "source": [
    "train_data = KeypointsDataset(img_dir, train_annotation_dir)\n",
    "validation_data = KeypointsDataset(img_dir, validation_annotation_dir)\n"
   ]
  },
  {
   "cell_type": "markdown",
   "metadata": {
    "id": "8JNS8ty-1At7"
   },
   "source": [
    "## Split data"
   ]
  },
  {
   "cell_type": "code",
   "execution_count": 9,
   "metadata": {
    "id": "318grUjC1AkL"
   },
   "outputs": [],
   "source": [
    "test_split = 0.1\n",
    "test_size = int(test_split * len(train_data))\n",
    "train_size = len(train_data) - test_size"
   ]
  },
  {
   "cell_type": "code",
   "execution_count": 10,
   "metadata": {
    "id": "JUs2o3H71AhU"
   },
   "outputs": [],
   "source": [
    "train_data, test_data = random_split(train_data, [train_size, test_size])"
   ]
  },
  {
   "cell_type": "markdown",
   "metadata": {
    "id": "2CPxD-rB270z"
   },
   "source": [
    "## Load pytorch data"
   ]
  },
  {
   "cell_type": "code",
   "execution_count": 11,
   "metadata": {
    "id": "Tb1Zg-RE054C"
   },
   "outputs": [],
   "source": [
    "train_loader = DataLoader(train_data, batch_size=8, shuffle=True)\n",
    "val_loader = DataLoader(validation_data, batch_size=8)\n",
    "test_loader = DataLoader(test_data, batch_size=8)"
   ]
  },
  {
   "cell_type": "markdown",
   "metadata": {
    "id": "R7w2s5R_1tQN"
   },
   "source": [
    "# Load pretrained model"
   ]
  },
  {
   "cell_type": "code",
   "execution_count": 12,
   "metadata": {
    "id": "LQyOfbSt1OBX"
   },
   "outputs": [],
   "source": [
    "model = models.resnet50(weights=ResNet50_Weights.IMAGENET1K_V1)\n",
    "model.fc = torch.nn.Linear(model.fc.in_features, 28)"
   ]
  },
  {
   "cell_type": "code",
   "execution_count": 13,
   "metadata": {
    "id": "5qieBB8C1PQo"
   },
   "outputs": [],
   "source": [
    "model = model.to(device)"
   ]
  },
  {
   "cell_type": "markdown",
   "metadata": {
    "id": "DQQm5LLi7wk8"
   },
   "source": [
    "### Training setup"
   ]
  },
  {
   "cell_type": "code",
   "execution_count": 14,
   "metadata": {
    "id": "kH4NJgM71QUD"
   },
   "outputs": [],
   "source": [
    "criterion = torch.nn.MSELoss()\n",
    "optimizer = torch.optim.Adam(model.parameters(), lr=0.0001)"
   ]
  },
  {
   "cell_type": "code",
   "execution_count": 17,
   "metadata": {
    "id": "qmsT9TXn3pEj"
   },
   "outputs": [],
   "source": [
    "def train(\n",
    "        _model,\n",
    "        _criterion,\n",
    "        _train_loader,\n",
    "        _val_loader,\n",
    "        _optimizer,\n",
    "        _epochs,\n",
    "        _device\n",
    "):\n",
    "    model_history = {\n",
    "        'training_loss': [],\n",
    "        'validation_loss': []\n",
    "        }\n",
    "\n",
    "    for epoch in range(_epochs):\n",
    "        _model.train()\n",
    "        train_loss = 0.0\n",
    "\n",
    "        for imgs, kps in _train_loader:\n",
    "            imgs = imgs.to(_device)\n",
    "            kps = kps.to(_device)\n",
    "\n",
    "            optimizer.zero_grad()\n",
    "            pred_kps = _model(imgs)\n",
    "\n",
    "            loss = criterion(pred_kps, kps)\n",
    "            loss.backward()\n",
    "            optimizer.step()\n",
    "\n",
    "            train_loss += loss.item()\n",
    "\n",
    "        model_history['training_loss'].append(train_loss / len(_train_loader))\n",
    "\n",
    "        # Model validation\n",
    "        _model.eval()\n",
    "        val_loss = 0.0\n",
    "\n",
    "        with torch.no_grad():\n",
    "            for imgs, kps in _val_loader:\n",
    "                imgs = imgs.to(_device)\n",
    "                kps = kps.to(_device)\n",
    "\n",
    "                # Make prediction\n",
    "                pred_kps = _model(imgs)\n",
    "                loss = _criterion(pred_kps, kps)\n",
    "                val_loss += loss.item()\n",
    "\n",
    "        model_history['validation_loss'].append(val_loss / len(_val_loader))\n",
    "\n",
    "        print(f'Epoch [{epoch+1}/{_epochs}], Training Loss: {model_history[\"training_loss\"][-1]}, Validation Loss: {model_history[\"validation_loss\"][-1]}')\n",
    "\n",
    "    return model_history"
   ]
  },
  {
   "cell_type": "code",
   "execution_count": 18,
   "metadata": {
    "colab": {
     "base_uri": "https://localhost:8080/"
    },
    "id": "pyoMOEA87off",
    "outputId": "3feed0d8-63f5-45b2-8ace-7dbc713f8177"
   },
   "outputs": [
    {
     "name": "stdout",
     "output_type": "stream",
     "text": [
      "Epoch [1/20], Training Loss: 117.05556093527868, Validation Loss: 66.9146648365668\n",
      "Epoch [2/20], Training Loss: 45.80772904736107, Validation Loss: 49.993706300370526\n",
      "Epoch [3/20], Training Loss: 35.914844810802876, Validation Loss: 30.650900480979615\n",
      "Epoch [4/20], Training Loss: 24.136419723564433, Validation Loss: 27.318372607661498\n",
      "Epoch [5/20], Training Loss: 17.065959881521742, Validation Loss: 11.881153787086156\n",
      "Epoch [6/20], Training Loss: 12.535254594707617, Validation Loss: 8.876071483004395\n",
      "Epoch [7/20], Training Loss: 11.390423108042086, Validation Loss: 9.368233795845981\n",
      "Epoch [8/20], Training Loss: 10.465260620730811, Validation Loss: 10.040606624382928\n",
      "Epoch [9/20], Training Loss: 9.008429061471617, Validation Loss: 6.159086015250279\n",
      "Epoch [10/20], Training Loss: 7.162997294846552, Validation Loss: 7.017259964874075\n",
      "Epoch [11/20], Training Loss: 6.7963999418726555, Validation Loss: 7.027092731386316\n",
      "Epoch [12/20], Training Loss: 7.103189371546216, Validation Loss: 6.339474561412412\n",
      "Epoch [13/20], Training Loss: 6.031078183539112, Validation Loss: 6.8657868001004845\n",
      "Epoch [14/20], Training Loss: 5.485070696744778, Validation Loss: 6.115714894950605\n",
      "Epoch [15/20], Training Loss: 4.639897531302941, Validation Loss: 5.009834446308846\n",
      "Epoch [16/20], Training Loss: 4.31235414144181, Validation Loss: 6.63919475448691\n",
      "Epoch [17/20], Training Loss: 4.336290541766636, Validation Loss: 6.242702144578045\n",
      "Epoch [18/20], Training Loss: 3.9692325544900613, Validation Loss: 5.049656341222219\n",
      "Epoch [19/20], Training Loss: 3.488452137934778, Validation Loss: 5.342886683312564\n",
      "Epoch [20/20], Training Loss: 3.007848346620878, Validation Loss: 5.788539735526385\n"
     ]
    }
   ],
   "source": [
    "# Training the model\n",
    "epochs = 20\n",
    "model_history = train(model, criterion, train_loader, val_loader, optimizer, epochs, device)"
   ]
  },
  {
   "cell_type": "markdown",
   "metadata": {
    "id": "lWXceSsIdBfn"
   },
   "source": [
    "## Traning history visualization"
   ]
  },
  {
   "cell_type": "code",
   "execution_count": 30,
   "metadata": {
    "colab": {
     "base_uri": "https://localhost:8080/",
     "height": 492
    },
    "id": "DY5AF9EObctO",
    "outputId": "93a9b80c-0695-4358-c1f1-9c79fb5d7985"
   },
   "outputs": [
    {
     "data": {
      "image/png": "[encoded data removed]",
      "text/plain": [
       "<Figure size 1000x500 with 1 Axes>"
      ]
     },
     "metadata": {},
     "output_type": "display_data"
    }
   ],
   "source": [
    "plt.style.use('ggplot')\n",
    "plt.figure(figsize=(10, 5))\n",
    "plt.plot(model_history['training_loss'], label='Training Loss')\n",
    "plt.plot(model_history['validation_loss'], label='Validation Loss')\n",
    "plt.xlabel('Epochs')\n",
    "plt.ylabel('Loss')\n",
    "plt.legend()\n",
    "plt.title('Training and Validation Loss')\n",
    "plt.savefig('History.jpg', format='jpg', dpi=300)\n",
    "plt.show()"
   ]
  },
  {
   "cell_type": "markdown",
   "metadata": {
    "id": "Q5DOh8OlPi4Q"
   },
   "source": [
    "# Test the model"
   ]
  },
  {
   "cell_type": "code",
   "execution_count": 28,
   "metadata": {
    "id": "TxjsOE3P7odC"
   },
   "outputs": [],
   "source": [
    "\n",
    "def test_model(_model, _criterion, _test_loader, _device):\n",
    "    _model.eval()\n",
    "    test_loss = 0.0\n",
    "    total_mse = 0.0\n",
    "\n",
    "    with torch.no_grad():\n",
    "        for imgs, kps in _test_loader:\n",
    "            imgs = imgs.to(_device)\n",
    "            kps = kps.to(_device)\n",
    "\n",
    "            pred_kps = _model(imgs)\n",
    "            loss = _criterion(pred_kps, kps)\n",
    "            test_loss += loss.item()\n",
    "\n",
    "            mse = torch.mean((pred_kps - kps) ** 2)\n",
    "            total_mse += mse.item()\n",
    "\n",
    "    avg_test_loss = test_loss / len(_test_loader)\n",
    "    avg_mse = total_mse / len(_test_loader)\n",
    "\n",
    "    print(f'Test Loss: {avg_test_loss}')\n",
    "    print(f'Test MSE: {avg_mse}')\n"
   ]
  },
  {
   "cell_type": "code",
   "execution_count": 29,
   "metadata": {
    "colab": {
     "base_uri": "https://localhost:8080/"
    },
    "id": "hCmAPf5APluY",
    "outputId": "e3473744-96ad-4183-8957-6358b64e0f4a"
   },
   "outputs": [
    {
     "name": "stdout",
     "output_type": "stream",
     "text": [
      "Test Loss: 2.768577068685049\n",
      "Test MSE: 2.768577068685049\n"
     ]
    }
   ],
   "source": [
    "# Run the test\n",
    "test_model(model, criterion, test_loader, device)"
   ]
  },
  {
   "cell_type": "markdown",
   "metadata": {
    "id": "P7iVOEo1cgHE"
   },
   "source": [
    "## Save model"
   ]
  },
  {
   "cell_type": "code",
   "execution_count": 21,
   "metadata": {
    "id": "8U5sEjkP4H1w"
   },
   "outputs": [],
   "source": [
    "torch.save(model.state_dict(), f'keypoint_model.pth')"
   ]
  }
 ],
 "metadata": {
  "accelerator": "GPU",
  "colab": {
   "gpuType": "T4",
   "provenance": []
  },
  "kernelspec": {
   "display_name": "Python 3 (ipykernel)",
   "language": "python",
   "name": "python3"
  },
  "language_info": {
   "codemirror_mode": {
    "name": "ipython",
    "version": 3
   },
   "file_extension": ".py",
   "mimetype": "text/x-python",
   "name": "python",
   "nbconvert_exporter": "python",
   "pygments_lexer": "ipython3",
   "version": "3.11.2"
  }
 },
 "nbformat": 4,
 "nbformat_minor": 4
}
